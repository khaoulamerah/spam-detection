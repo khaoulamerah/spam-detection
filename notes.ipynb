{
 "cells": [
  {
   "cell_type": "markdown",
   "id": "a573f570",
   "metadata": {},
   "source": [
    "## Séparation des données\n",
    "\n",
    "On divise les données de départ (les e-mails avec le label spam/ham) en deux parties :\n",
    "\n",
    ". 80% pour l’entraînement (X_train, Y_train)\n",
    "\n",
    ". 20% pour le test (X_test, Y_test)\n",
    "\n",
    "| Email   | Spam ? | Utilisé pour |\n",
    "| ------- | ------ | ------------ |\n",
    "| Email 1 | Yes    | Entraînement |\n",
    "| Email 2 | No     | Entraînement |\n",
    "| Email 3 | Yes    | Test         |\n",
    "| Email 4 | No     | Test         |\n",
    "| ...     | ...    | ...          |\n",
    "---"
   ]
  }
 ],
 "metadata": {
  "kernelspec": {
   "display_name": "Python 3 (ipykernel)",
   "language": "python",
   "name": "python3"
  },
  "language_info": {
   "codemirror_mode": {
    "name": "ipython",
    "version": 3
   },
   "file_extension": ".py",
   "mimetype": "text/x-python",
   "name": "python",
   "nbconvert_exporter": "python",
   "pygments_lexer": "ipython3",
   "version": "3.12.4"
  }
 },
 "nbformat": 4,
 "nbformat_minor": 5
}
